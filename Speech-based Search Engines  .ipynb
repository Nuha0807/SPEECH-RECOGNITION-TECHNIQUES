{
 "cells": [
  {
   "cell_type": "code",
   "execution_count": 3,
   "id": "64e158a4-23a1-4ed6-8e34-9089a837d192",
   "metadata": {},
   "outputs": [
    {
     "name": "stdout",
     "output_type": "stream",
     "text": [
      "Requirement already satisfied: SpeechRecognition in c:\\users\\akrco\\anaconda3\\lib\\site-packages (3.14.2)\n",
      "Requirement already satisfied: typing-extensions in c:\\users\\akrco\\anaconda3\\lib\\site-packages (from SpeechRecognition) (4.11.0)\n",
      "Note: you may need to restart the kernel to use updated packages.\n"
     ]
    }
   ],
   "source": [
    "pip install SpeechRecognition"
   ]
  },
  {
   "cell_type": "code",
   "execution_count": 5,
   "id": "7142798f-3278-43f4-b8df-4ac233894d4e",
   "metadata": {},
   "outputs": [
    {
     "name": "stdout",
     "output_type": "stream",
     "text": [
      "Collecting PyAudio\n",
      "  Downloading PyAudio-0.2.14-cp312-cp312-win_amd64.whl.metadata (2.7 kB)\n",
      "Downloading PyAudio-0.2.14-cp312-cp312-win_amd64.whl (164 kB)\n",
      "   ---------------------------------------- 0.0/164.1 kB ? eta -:--:--\n",
      "   -- ------------------------------------- 10.2/164.1 kB ? eta -:--:--\n",
      "   ---- ---------------------------------- 20.5/164.1 kB 330.3 kB/s eta 0:00:01\n",
      "   ------------ -------------------------- 51.2/164.1 kB 372.4 kB/s eta 0:00:01\n",
      "   ----------------------- -------------- 102.4/164.1 kB 535.8 kB/s eta 0:00:01\n",
      "   ------------------------------ ------- 133.1/164.1 kB 653.6 kB/s eta 0:00:01\n",
      "   -------------------------------------- 164.1/164.1 kB 615.5 kB/s eta 0:00:00\n",
      "Installing collected packages: PyAudio\n",
      "Successfully installed PyAudio-0.2.14\n",
      "Note: you may need to restart the kernel to use updated packages.\n"
     ]
    }
   ],
   "source": [
    "pip install PyAudio"
   ]
  },
  {
   "cell_type": "code",
   "execution_count": 7,
   "id": "d628b86e-aa46-434d-b4e2-adda1fee8270",
   "metadata": {},
   "outputs": [
    {
     "name": "stdout",
     "output_type": "stream",
     "text": [
      "Speak your search query...\n",
      "Could not understand the audio.\n"
     ]
    }
   ],
   "source": [
    "import speech_recognition as sr\n",
    "import webbrowser\n",
    "\n",
    "def recognize_speech():\n",
    "    recognizer = sr.Recognizer()\n",
    "    with sr.Microphone() as source:\n",
    "        print(\"Speak your search query...\")\n",
    "        recognizer.adjust_for_ambient_noise(source)\n",
    "        audio = recognizer.listen(source)\n",
    "    try:\n",
    "        query = recognizer.recognize_google(audio)\n",
    "        print(f\"You said: {query}\")\n",
    "        return query\n",
    "    except sr.UnknownValueError:\n",
    "        print(\"Could not understand the audio.\")\n",
    "        return None\n",
    "    except sr.RequestError:\n",
    "        print(\"Could not request results.\")\n",
    "        return None\n",
    "\n",
    "def search_web(query):\n",
    "    if query:\n",
    "        url = f\"https://www.google.com/search?q={query}\"\n",
    "        webbrowser.open(url)\n",
    "\n",
    "if __name__ == \"__main__\":\n",
    "    query = recognize_speech()\n",
    "    search_web(query)\n"
   ]
  },
  {
   "cell_type": "code",
   "execution_count": 7,
   "id": "b84669d4-f1a9-4d85-97c4-e980d5f37c74",
   "metadata": {},
   "outputs": [
    {
     "name": "stdout",
     "output_type": "stream",
     "text": [
      "Speak your search query...\n",
      "You said: what is artificial intelligence\n"
     ]
    }
   ],
   "source": [
    "import speech_recognition as sr\n",
    "import webbrowser\n",
    "\n",
    "def recognize_speech():\n",
    "    recognizer = sr.Recognizer()\n",
    "    with sr.Microphone() as source:\n",
    "        print(\"Speak your search query...\")\n",
    "        recognizer.adjust_for_ambient_noise(source)\n",
    "        audio = recognizer.listen(source)\n",
    "    try:\n",
    "        query = recognizer.recognize_google(audio)\n",
    "        print(f\"You said: {query}\")\n",
    "        return query\n",
    "    except sr.UnknownValueError:\n",
    "        print(\"Could not understand the audio.\")\n",
    "        return None\n",
    "    except sr.RequestError:\n",
    "        print(\"Could not request results.\")\n",
    "        return None\n",
    "\n",
    "def search_web(query):\n",
    "    if query:\n",
    "        url = f\"https://www.google.com/search?q={query}\"\n",
    "        webbrowser.open(url)\n",
    "\n",
    "if __name__ == \"__main__\":\n",
    "    query = recognize_speech()\n",
    "    search_web(query)\n"
   ]
  },
  {
   "cell_type": "code",
   "execution_count": 5,
   "id": "2a962784-d66c-431a-8573-ad9a7f27f8a2",
   "metadata": {},
   "outputs": [
    {
     "name": "stdout",
     "output_type": "stream",
     "text": [
      "Speak your search query...\n",
      "You said: intelligence\n"
     ]
    }
   ],
   "source": [
    "import speech_recognition as sr\n",
    "import webbrowser\n",
    "\n",
    "def recognize_speech():\n",
    "    recognizer = sr.Recognizer()\n",
    "    with sr.Microphone() as source:\n",
    "        print(\"Speak your search query...\")\n",
    "        recognizer.adjust_for_ambient_noise(source)\n",
    "        audio = recognizer.listen(source)\n",
    "    try:\n",
    "        query = recognizer.recognize_google(audio)\n",
    "        print(f\"You said: {query}\")\n",
    "        return query\n",
    "    except sr.UnknownValueError:\n",
    "        print(\"Could not understand the audio.\")\n",
    "        return None\n",
    "    except sr.RequestError:\n",
    "        print(\"Could not request results.\")\n",
    "        return None\n",
    "\n",
    "def search_web(query):\n",
    "    if query:\n",
    "        url = f\"https://www.google.com/search?q={query}\"\n",
    "        webbrowser.open(url)\n",
    "\n",
    "if __name__ == \"__main__\":\n",
    "    query = recognize_speech()\n",
    "    search_web(query)\n"
   ]
  },
  {
   "cell_type": "code",
   "execution_count": 2,
   "id": "ed70b613-6c6f-41cf-bcca-ff4a2ed32b96",
   "metadata": {},
   "outputs": [
    {
     "name": "stdout",
     "output_type": "stream",
     "text": [
      "Speak your search query...\n",
      "You said: what is speech recognition\n"
     ]
    }
   ],
   "source": [
    "import speech_recognition as sr\n",
    "import webbrowser\n",
    "\n",
    "def recognize_speech():\n",
    "    recognizer = sr.Recognizer()\n",
    "    with sr.Microphone() as source:\n",
    "        print(\"Speak your search query...\")\n",
    "        recognizer.adjust_for_ambient_noise(source)\n",
    "        audio = recognizer.listen(source)\n",
    "    try:\n",
    "        query = recognizer.recognize_google(audio)\n",
    "        print(f\"You said: {query}\")\n",
    "        return query\n",
    "    except sr.UnknownValueError:\n",
    "        print(\"Could not understand the audio.\")\n",
    "        return None\n",
    "    except sr.RequestError:\n",
    "        print(\"Could not request results.\")\n",
    "        return None\n",
    "\n",
    "def search_web(query):\n",
    "    if query:\n",
    "        url = f\"https://www.google.com/search?q={query}\"\n",
    "        webbrowser.open(url)\n",
    "\n",
    "if __name__ == \"__main__\":\n",
    "    query = recognize_speech()\n",
    "    search_web(query)\n"
   ]
  },
  {
   "cell_type": "code",
   "execution_count": null,
   "id": "6629ccd9-c425-4d46-b62a-6ce0099ddcee",
   "metadata": {},
   "outputs": [],
   "source": []
  }
 ],
 "metadata": {
  "kernelspec": {
   "display_name": "Python 3 (ipykernel)",
   "language": "python",
   "name": "python3"
  },
  "language_info": {
   "codemirror_mode": {
    "name": "ipython",
    "version": 3
   },
   "file_extension": ".py",
   "mimetype": "text/x-python",
   "name": "python",
   "nbconvert_exporter": "python",
   "pygments_lexer": "ipython3",
   "version": "3.12.4"
  }
 },
 "nbformat": 4,
 "nbformat_minor": 5
}

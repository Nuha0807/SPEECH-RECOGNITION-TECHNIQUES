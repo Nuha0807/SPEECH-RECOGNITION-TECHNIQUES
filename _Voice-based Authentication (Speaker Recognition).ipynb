{
 "cells": [
  {
   "cell_type": "code",
   "execution_count": 1,
   "id": "6f568ba7-6b24-426c-b877-022ad33a3290",
   "metadata": {},
   "outputs": [
    {
     "name": "stdout",
     "output_type": "stream",
     "text": [
      "Requirement already satisfied: numpy in c:\\users\\akrco\\anaconda3\\lib\\site-packages (1.26.4)\n",
      "Requirement already satisfied: scipy in c:\\users\\akrco\\anaconda3\\lib\\site-packages (1.13.1)\n",
      "Requirement already satisfied: librosa in c:\\users\\akrco\\anaconda3\\lib\\site-packages (0.11.0)\n",
      "Requirement already satisfied: scikit-learn in c:\\users\\akrco\\anaconda3\\lib\\site-packages (1.4.2)\n",
      "Requirement already satisfied: sounddevice in c:\\users\\akrco\\anaconda3\\lib\\site-packages (0.5.1)\n",
      "Requirement already satisfied: audioread>=2.1.9 in c:\\users\\akrco\\anaconda3\\lib\\site-packages (from librosa) (3.0.1)\n",
      "Requirement already satisfied: numba>=0.51.0 in c:\\users\\akrco\\anaconda3\\lib\\site-packages (from librosa) (0.59.1)\n",
      "Requirement already satisfied: joblib>=1.0 in c:\\users\\akrco\\anaconda3\\lib\\site-packages (from librosa) (1.4.2)\n",
      "Requirement already satisfied: decorator>=4.3.0 in c:\\users\\akrco\\anaconda3\\lib\\site-packages (from librosa) (5.1.1)\n",
      "Requirement already satisfied: soundfile>=0.12.1 in c:\\users\\akrco\\anaconda3\\lib\\site-packages (from librosa) (0.13.1)\n",
      "Requirement already satisfied: pooch>=1.1 in c:\\users\\akrco\\anaconda3\\lib\\site-packages (from librosa) (1.8.2)\n",
      "Requirement already satisfied: soxr>=0.3.2 in c:\\users\\akrco\\anaconda3\\lib\\site-packages (from librosa) (0.5.0.post1)\n",
      "Requirement already satisfied: typing_extensions>=4.1.1 in c:\\users\\akrco\\anaconda3\\lib\\site-packages (from librosa) (4.11.0)\n",
      "Requirement already satisfied: lazy_loader>=0.1 in c:\\users\\akrco\\anaconda3\\lib\\site-packages (from librosa) (0.4)\n",
      "Requirement already satisfied: msgpack>=1.0 in c:\\users\\akrco\\anaconda3\\lib\\site-packages (from librosa) (1.0.3)\n",
      "Requirement already satisfied: threadpoolctl>=2.0.0 in c:\\users\\akrco\\anaconda3\\lib\\site-packages (from scikit-learn) (2.2.0)\n",
      "Requirement already satisfied: CFFI>=1.0 in c:\\users\\akrco\\anaconda3\\lib\\site-packages (from sounddevice) (1.16.0)\n",
      "Requirement already satisfied: pycparser in c:\\users\\akrco\\anaconda3\\lib\\site-packages (from CFFI>=1.0->sounddevice) (2.21)\n",
      "Requirement already satisfied: packaging in c:\\users\\akrco\\anaconda3\\lib\\site-packages (from lazy_loader>=0.1->librosa) (23.2)\n",
      "Requirement already satisfied: llvmlite<0.43,>=0.42.0dev0 in c:\\users\\akrco\\anaconda3\\lib\\site-packages (from numba>=0.51.0->librosa) (0.42.0)\n",
      "Requirement already satisfied: platformdirs>=2.5.0 in c:\\users\\akrco\\anaconda3\\lib\\site-packages (from pooch>=1.1->librosa) (3.10.0)\n",
      "Requirement already satisfied: requests>=2.19.0 in c:\\users\\akrco\\anaconda3\\lib\\site-packages (from pooch>=1.1->librosa) (2.32.2)\n",
      "Requirement already satisfied: charset-normalizer<4,>=2 in c:\\users\\akrco\\anaconda3\\lib\\site-packages (from requests>=2.19.0->pooch>=1.1->librosa) (2.0.4)\n",
      "Requirement already satisfied: idna<4,>=2.5 in c:\\users\\akrco\\anaconda3\\lib\\site-packages (from requests>=2.19.0->pooch>=1.1->librosa) (3.7)\n",
      "Requirement already satisfied: urllib3<3,>=1.21.1 in c:\\users\\akrco\\anaconda3\\lib\\site-packages (from requests>=2.19.0->pooch>=1.1->librosa) (2.2.2)\n",
      "Requirement already satisfied: certifi>=2017.4.17 in c:\\users\\akrco\\anaconda3\\lib\\site-packages (from requests>=2.19.0->pooch>=1.1->librosa) (2024.7.4)\n",
      "Note: you may need to restart the kernel to use updated packages.\n"
     ]
    }
   ],
   "source": [
    "pip install numpy scipy librosa scikit-learn sounddevice"
   ]
  },
  {
   "cell_type": "code",
   "execution_count": null,
   "id": "177f3591-1116-4722-b6e9-d3fa154a6cde",
   "metadata": {},
   "outputs": [
    {
     "name": "stdout",
     "output_type": "stream",
     "text": [
      "\n",
      "===== Voice Authentication System =====\n",
      "1. Enroll New User\n",
      "2. Authenticate User\n",
      "3. List Users\n",
      "4. Exit\n"
     ]
    },
    {
     "name": "stdin",
     "output_type": "stream",
     "text": [
      "Enter your choice (1-4):  1\n",
      "Enter username for enrollment:  nuha\n",
      "User nuha already exists. Overwrite? (y/n):  zarin\n"
     ]
    },
    {
     "name": "stdout",
     "output_type": "stream",
     "text": [
      "Enrollment cancelled.\n",
      "\n",
      "===== Voice Authentication System =====\n",
      "1. Enroll New User\n",
      "2. Authenticate User\n",
      "3. List Users\n",
      "4. Exit\n"
     ]
    },
    {
     "name": "stdin",
     "output_type": "stream",
     "text": [
      "Enter your choice (1-4):  2\n",
      "Enter username to authenticate:  nuha\n"
     ]
    },
    {
     "name": "stdout",
     "output_type": "stream",
     "text": [
      "Authenticating user: nuha\n"
     ]
    },
    {
     "name": "stdin",
     "output_type": "stream",
     "text": [
      "Press Enter and speak for authentication... \n"
     ]
    },
    {
     "name": "stdout",
     "output_type": "stream",
     "text": [
      "Recording for 3 seconds...\n",
      "Recording finished\n"
     ]
    },
    {
     "name": "stderr",
     "output_type": "stream",
     "text": [
      "C:\\Users\\akrco\\anaconda3\\Lib\\site-packages\\paramiko\\transport.py:219: CryptographyDeprecationWarning: Blowfish has been deprecated and will be removed in a future release\n",
      "  \"class\": algorithms.Blowfish,\n"
     ]
    },
    {
     "name": "stdout",
     "output_type": "stream",
     "text": [
      "Score: -65.04, Threshold: -35\n",
      "Authentication failed! Voice does not match.\n",
      "\n",
      "===== Voice Authentication System =====\n",
      "1. Enroll New User\n",
      "2. Authenticate User\n",
      "3. List Users\n",
      "4. Exit\n"
     ]
    },
    {
     "name": "stdin",
     "output_type": "stream",
     "text": [
      "Enter your choice (1-4):  2\n",
      "Enter username to authenticate:  zarin\n"
     ]
    },
    {
     "name": "stdout",
     "output_type": "stream",
     "text": [
      "User zarin not found!\n",
      "\n",
      "===== Voice Authentication System =====\n",
      "1. Enroll New User\n",
      "2. Authenticate User\n",
      "3. List Users\n",
      "4. Exit\n"
     ]
    },
    {
     "name": "stdin",
     "output_type": "stream",
     "text": [
      "Enter your choice (1-4):  2\n",
      "Enter username to authenticate:  nuha\n"
     ]
    },
    {
     "name": "stdout",
     "output_type": "stream",
     "text": [
      "Authenticating user: nuha\n"
     ]
    },
    {
     "name": "stdin",
     "output_type": "stream",
     "text": [
      "Press Enter and speak for authentication... \n"
     ]
    },
    {
     "name": "stdout",
     "output_type": "stream",
     "text": [
      "Recording for 3 seconds...\n",
      "Recording finished\n",
      "Score: -77.65, Threshold: -35\n",
      "Authentication failed! Voice does not match.\n",
      "\n",
      "===== Voice Authentication System =====\n",
      "1. Enroll New User\n",
      "2. Authenticate User\n",
      "3. List Users\n",
      "4. Exit\n"
     ]
    },
    {
     "name": "stdin",
     "output_type": "stream",
     "text": [
      "Enter your choice (1-4):  2\n",
      "Enter username to authenticate:  nuha\n"
     ]
    },
    {
     "name": "stdout",
     "output_type": "stream",
     "text": [
      "Authenticating user: nuha\n"
     ]
    },
    {
     "name": "stdin",
     "output_type": "stream",
     "text": [
      "Press Enter and speak for authentication... \n"
     ]
    },
    {
     "name": "stdout",
     "output_type": "stream",
     "text": [
      "Recording for 3 seconds...\n",
      "Recording finished\n",
      "Score: -91.01, Threshold: -35\n",
      "Authentication failed! Voice does not match.\n",
      "\n",
      "===== Voice Authentication System =====\n",
      "1. Enroll New User\n",
      "2. Authenticate User\n",
      "3. List Users\n",
      "4. Exit\n"
     ]
    },
    {
     "name": "stdin",
     "output_type": "stream",
     "text": [
      "Enter your choice (1-4):  3\n"
     ]
    },
    {
     "name": "stdout",
     "output_type": "stream",
     "text": [
      "Enrolled users:\n",
      "- nuha\n",
      "\n",
      "===== Voice Authentication System =====\n",
      "1. Enroll New User\n",
      "2. Authenticate User\n",
      "3. List Users\n",
      "4. Exit\n"
     ]
    }
   ],
   "source": [
    "import os\n",
    "import pickle\n",
    "import numpy as np\n",
    "import sounddevice as sd\n",
    "from scipy.io.wavfile import write\n",
    "import librosa\n",
    "from sklearn.mixture import GaussianMixture\n",
    "import time\n",
    "\n",
    "class VoiceAuthenticator:\n",
    "    def __init__(self, models_dir=\"voice_models\"):\n",
    "        self.fs = 22050  # Sample rate\n",
    "        self.seconds = 3  # Recording duration\n",
    "        self.models_dir = models_dir\n",
    "        \n",
    "        # Create models directory if it doesn't exist\n",
    "        if not os.path.exists(models_dir):\n",
    "            os.makedirs(models_dir)\n",
    "    \n",
    "    def extract_features(self, audio_data, sample_rate):\n",
    "        \"\"\"Extract MFCCs from audio data\"\"\"\n",
    "        try:\n",
    "            # Extract 20 MFCC features\n",
    "            mfccs = librosa.feature.mfcc(y=audio_data, sr=sample_rate, n_mfcc=20)\n",
    "            \n",
    "            # Transpose to get time-based frames for GMM\n",
    "            return mfccs.T\n",
    "        except Exception as e:\n",
    "            print(f\"Error extracting features: {e}\")\n",
    "            return None\n",
    "    \n",
    "    def record_audio(self, filename=\"temp_recording.wav\"):\n",
    "        \"\"\"Record audio from microphone\"\"\"\n",
    "        print(f\"Recording for {self.seconds} seconds...\")\n",
    "        \n",
    "        try:\n",
    "            # Record audio\n",
    "            recording = sd.rec(int(self.seconds * self.fs), samplerate=self.fs, channels=1)\n",
    "            sd.wait()  # Wait until recording is finished\n",
    "            \n",
    "            print(\"Recording finished\")\n",
    "            \n",
    "            # Save as WAV file\n",
    "            write(filename, self.fs, recording)\n",
    "            \n",
    "            # Convert to mono and return\n",
    "            audio_data = recording.flatten()\n",
    "            return audio_data\n",
    "        except Exception as e:\n",
    "            print(f\"Error recording audio: {e}\")\n",
    "            return None\n",
    "    \n",
    "    def enroll_user(self, username):\n",
    "        \"\"\"Enroll a new user by creating a voice model\"\"\"\n",
    "        # Check if username already exists\n",
    "        model_path = os.path.join(self.models_dir, f\"{username}.gmm\")\n",
    "        if os.path.exists(model_path):\n",
    "            overwrite = input(f\"User {username} already exists. Overwrite? (y/n): \").lower()\n",
    "            if overwrite != 'y':\n",
    "                print(\"Enrollment cancelled.\")\n",
    "                return False\n",
    "        \n",
    "        print(f\"Enrolling user: {username}\")\n",
    "        print(\"Please speak for voice enrollment when prompted.\")\n",
    "        time.sleep(1)\n",
    "        \n",
    "        features_list = []\n",
    "        \n",
    "        # Record multiple samples for better model\n",
    "        for i in range(3):\n",
    "            print(f\"\\nSample {i+1}/3. \", end=\"\")\n",
    "            input(\"Press Enter and start speaking...\")\n",
    "            audio_data = self.record_audio()\n",
    "            \n",
    "            if audio_data is None:\n",
    "                print(\"Failed to record audio. Please try again.\")\n",
    "                return False\n",
    "                \n",
    "            features = self.extract_features(audio_data, self.fs)\n",
    "            \n",
    "            if features is None:\n",
    "                print(\"Failed to extract features. Please try again.\")\n",
    "                return False\n",
    "                \n",
    "            features_list.append(features)\n",
    "        \n",
    "        # Concatenate all features\n",
    "        all_features = np.vstack(features_list)\n",
    "        \n",
    "        # Check if we have enough data\n",
    "        if len(all_features) < 20:\n",
    "            print(\"Not enough voice data collected. Please try again and speak clearly.\")\n",
    "            return False\n",
    "        \n",
    "        try:\n",
    "            # Train a Gaussian Mixture Model\n",
    "            gmm = GaussianMixture(n_components=16, covariance_type='diag', random_state=42)\n",
    "            gmm.fit(all_features)\n",
    "            \n",
    "            # Save the model\n",
    "            with open(model_path, 'wb') as f:\n",
    "                pickle.dump(gmm, f)\n",
    "            \n",
    "            print(f\"\\nEnrollment complete for {username}!\")\n",
    "            return True\n",
    "        except Exception as e:\n",
    "            print(f\"Error during model training: {e}\")\n",
    "            return False\n",
    "    \n",
    "    def authenticate_user(self, username):\n",
    "        \"\"\"Authenticate a user against their stored voice model\"\"\"\n",
    "        model_path = os.path.join(self.models_dir, f\"{username}.gmm\")\n",
    "        \n",
    "        # Check if user exists\n",
    "        if not os.path.exists(model_path):\n",
    "            print(f\"User {username} not found!\")\n",
    "            return False\n",
    "        \n",
    "        try:\n",
    "            # Load the GMM model\n",
    "            with open(model_path, 'rb') as f:\n",
    "                gmm = pickle.load(f)\n",
    "            \n",
    "            print(f\"Authenticating user: {username}\")\n",
    "            input(\"Press Enter and speak for authentication...\")\n",
    "            \n",
    "            # Record authentication attempt\n",
    "            audio_data = self.record_audio()\n",
    "            \n",
    "            if audio_data is None:\n",
    "                print(\"Failed to record audio. Please try again.\")\n",
    "                return False\n",
    "                \n",
    "            features = self.extract_features(audio_data, self.fs)\n",
    "            \n",
    "            if features is None or len(features) == 0:\n",
    "                print(\"Failed to extract features. Please try again.\")\n",
    "                return False\n",
    "            \n",
    "            # Calculate log likelihood score\n",
    "            score = gmm.score(features)\n",
    "            threshold = -35  # This threshold needs tuning based on your environment\n",
    "            \n",
    "            print(f\"Score: {score:.2f}, Threshold: {threshold}\")\n",
    "            \n",
    "            if score >= threshold:\n",
    "                print(f\"Authentication successful! Welcome, {username}.\")\n",
    "                return True\n",
    "            else:\n",
    "                print(\"Authentication failed! Voice does not match.\")\n",
    "                return False\n",
    "        except Exception as e:\n",
    "            print(f\"Error during authentication: {e}\")\n",
    "            return False\n",
    "    \n",
    "    def list_users(self):\n",
    "        \"\"\"List all enrolled users\"\"\"\n",
    "        try:\n",
    "            users = []\n",
    "            if os.path.exists(self.models_dir):\n",
    "                for file in os.listdir(self.models_dir):\n",
    "                    if file.endswith(\".gmm\"):\n",
    "                        users.append(file.replace(\".gmm\", \"\"))\n",
    "            \n",
    "            if users:\n",
    "                print(\"Enrolled users:\")\n",
    "                for user in users:\n",
    "                    print(f\"- {user}\")\n",
    "            else:\n",
    "                print(\"No users enrolled yet.\")\n",
    "            \n",
    "            return users\n",
    "        except Exception as e:\n",
    "            print(f\"Error listing users: {e}\")\n",
    "            return []\n",
    "\n",
    "\n",
    "def main():\n",
    "    try:\n",
    "        authenticator = VoiceAuthenticator()\n",
    "        \n",
    "        while True:\n",
    "            print(\"\\n===== Voice Authentication System =====\")\n",
    "            print(\"1. Enroll New User\")\n",
    "            print(\"2. Authenticate User\")\n",
    "            print(\"3. List Users\")\n",
    "            print(\"4. Exit\")\n",
    "            \n",
    "            choice = input(\"Enter your choice (1-4): \")\n",
    "            \n",
    "            if choice == \"1\":\n",
    "                username = input(\"Enter username for enrollment: \").strip()\n",
    "                if not username:\n",
    "                    print(\"Username cannot be empty.\")\n",
    "                    continue\n",
    "                authenticator.enroll_user(username)\n",
    "            \n",
    "            elif choice == \"2\":\n",
    "                username = input(\"Enter username to authenticate: \").strip()\n",
    "                if not username:\n",
    "                    print(\"Username cannot be empty.\")\n",
    "                    continue\n",
    "                authenticator.authenticate_user(username)\n",
    "            \n",
    "            elif choice == \"3\":\n",
    "                authenticator.list_users()\n",
    "            \n",
    "            elif choice == \"4\":\n",
    "                print(\"Exiting...\")\n",
    "                break\n",
    "            \n",
    "            else:\n",
    "                print(\"Invalid choice. Please try again.\")\n",
    "    except KeyboardInterrupt:\n",
    "        print(\"\\nProgram interrupted. Exiting...\")\n",
    "    except Exception as e:\n",
    "        print(f\"An unexpected error occurred: {e}\")\n",
    "\n",
    "\n",
    "if __name__ == \"__main__\":\n",
    "    main()"
   ]
  },
  {
   "cell_type": "code",
   "execution_count": null,
   "id": "55f4e690-9cd7-455b-b3ac-8e762c2e60b5",
   "metadata": {},
   "outputs": [],
   "source": []
  }
 ],
 "metadata": {
  "kernelspec": {
   "display_name": "Python 3 (ipykernel)",
   "language": "python",
   "name": "python3"
  },
  "language_info": {
   "codemirror_mode": {
    "name": "ipython",
    "version": 3
   },
   "file_extension": ".py",
   "mimetype": "text/x-python",
   "name": "python",
   "nbconvert_exporter": "python",
   "pygments_lexer": "ipython3",
   "version": "3.12.4"
  }
 },
 "nbformat": 4,
 "nbformat_minor": 5
}
